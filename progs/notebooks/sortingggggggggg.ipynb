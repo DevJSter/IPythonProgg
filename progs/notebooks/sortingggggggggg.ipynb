{
 "cells": [
  {
   "cell_type": "code",
   "execution_count": 3,
   "id": "f7615981",
   "metadata": {},
   "outputs": [
    {
     "name": "stdout",
     "output_type": "stream",
     "text": [
      "Enter the list of integers: 78 98 98 98 98 98 98 98 98\n",
      "Using Selection Sort: [78, 98, 98, 98, 98, 98, 98, 98, 98]\n",
      "Using Insertion Sort: [78, 98, 98, 98, 98, 98, 98, 98, 98]\n",
      "Using Merge Sort: [78, 98, 98, 98, 98, 98, 98, 98, 98]\n",
      "Using Quick Sort: [78, 98, 98, 98, 98, 98, 98, 98, 98]\n"
     ]
    }
   ],
   "source": [
    "def selection_sort(arr):\n",
    "    for i in range(len(arr)):\n",
    "        min_idx = i\n",
    "        for j in range(i + 1, len(arr)):\n",
    "            if arr[j] < arr[min_idx]:\n",
    "                min_idx = j\n",
    "        arr[i], arr[min_idx] = arr[min_idx], arr[i]\n",
    "    return arr\n",
    "\n",
    "\n",
    "def insertion_sort(arr):\n",
    "    for i in range(1, len(arr)):\n",
    "        key = arr[i]\n",
    "        j = i - 1\n",
    "        while j >= 0 and key < arr[j]:\n",
    "            arr[j + 1] = arr[j]\n",
    "            j -= 1\n",
    "        arr[j + 1] = key\n",
    "    return arr\n",
    "\n",
    "\n",
    "def merge_sort(arr):\n",
    "    if len(arr) <= 1:\n",
    "        return arr\n",
    "    mid = len(arr) // 2\n",
    "    left = merge_sort(arr[:mid])\n",
    "    right = merge_sort(arr[mid:])\n",
    "    return merge(left, right)\n",
    "\n",
    "\n",
    "def merge(left, right):\n",
    "    result = []\n",
    "    i, j = 0, 0\n",
    "    while i < len(left) and j < len(right):\n",
    "        if left[i] < right[j]:\n",
    "            result.append(left[i])\n",
    "            i += 1\n",
    "        else:\n",
    "            result.append(right[j])\n",
    "            j += 1\n",
    "    result += left[i:]\n",
    "    result += right[j:]\n",
    "    return result\n",
    "\n",
    "\n",
    "def quick_sort(arr):\n",
    "    if len(arr) <= 1:\n",
    "        return arr\n",
    "    pivot = arr[len(arr) // 2]\n",
    "    left = [x for x in arr if x < pivot]\n",
    "    middle = [x for x in arr if x == pivot]\n",
    "    right = [x for x in arr if x > pivot]\n",
    "    return quick_sort(left) + middle + quick_sort(right)\n",
    "\n",
    "\n",
    "# Getting user input\n",
    "arr = list(map(int, input(\"Enter the list of integers: \").split()))\n",
    "\n",
    "# Sorting using selection sort\n",
    "print(\"Using Selection Sort:\", selection_sort(arr.copy()))\n",
    "\n",
    "# Sorting using insertion sort\n",
    "print(\"Using Insertion Sort:\", insertion_sort(arr.copy()))\n",
    "\n",
    "# Sorting using merge sort\n",
    "print(\"Using Merge Sort:\", merge_sort(arr.copy()))\n",
    "\n",
    "# Sorting using quick sort\n",
    "print(\"Using Quick Sort:\", quick_sort(arr.copy()))\n"
   ]
  },
  {
   "cell_type": "code",
   "execution_count": 4,
   "id": "c91087cd",
   "metadata": {},
   "outputs": [
    {
     "name": "stdout",
     "output_type": "stream",
     "text": [
      "Enter the list of integers: 14\n",
      "Minimum number: 14\n",
      "Maximum number: 14\n"
     ]
    }
   ],
   "source": [
    "def find_min_max(arr):\n",
    "    n = len(arr)\n",
    "    if n == 1:\n",
    "        return arr[0], arr[0]\n",
    "    elif n == 2:\n",
    "        return (arr[0], arr[1]) if arr[0] < arr[1] else (arr[1], arr[0])\n",
    "    else:\n",
    "        mid = n // 2\n",
    "        min1, max1 = find_min_max(arr[:mid])\n",
    "        min2, max2 = find_min_max(arr[mid:])\n",
    "        return min(min1, min2), max(max1, max2)\n",
    "\n",
    "# Getting user input\n",
    "arr = list(map(int, input(\"Enter the list of integers: \").split()))\n",
    "\n",
    "# Finding minimum and maximum using greedy strategy\n",
    "min_num, max_num = find_min_max(arr)\n",
    "\n",
    "# Printing results\n",
    "print(\"Minimum number:\", min_num)\n",
    "print(\"Maximum number:\", max_num)\n"
   ]
  },
  {
   "cell_type": "code",
   "execution_count": 5,
   "id": "841a3de1",
   "metadata": {},
   "outputs": [
    {
     "name": "stdout",
     "output_type": "stream",
     "text": [
      "Enter the number of items: 5\n",
      "Enter the capacity of the knapsack: 15\n",
      "\n",
      "Item 1:\n",
      "Enter the weight: 10\n",
      "Enter the value: 15\n",
      "\n",
      "Item 2:\n",
      "Enter the weight: 7/8\n"
     ]
    },
    {
     "ename": "ValueError",
     "evalue": "invalid literal for int() with base 10: '7/8'",
     "output_type": "error",
     "traceback": [
      "\u001b[1;31m---------------------------------------------------------------------------\u001b[0m",
      "\u001b[1;31mValueError\u001b[0m                                Traceback (most recent call last)",
      "Cell \u001b[1;32mIn[5], line 19\u001b[0m\n\u001b[0;32m     17\u001b[0m \u001b[38;5;28;01mfor\u001b[39;00m i \u001b[38;5;129;01min\u001b[39;00m \u001b[38;5;28mrange\u001b[39m(n):\n\u001b[0;32m     18\u001b[0m     \u001b[38;5;28mprint\u001b[39m(\u001b[38;5;124mf\u001b[39m\u001b[38;5;124m\"\u001b[39m\u001b[38;5;130;01m\\n\u001b[39;00m\u001b[38;5;124mItem \u001b[39m\u001b[38;5;132;01m{\u001b[39;00mi\u001b[38;5;241m+\u001b[39m\u001b[38;5;241m1\u001b[39m\u001b[38;5;132;01m}\u001b[39;00m\u001b[38;5;124m:\u001b[39m\u001b[38;5;124m\"\u001b[39m)\n\u001b[1;32m---> 19\u001b[0m     weight \u001b[38;5;241m=\u001b[39m \u001b[38;5;28;43mint\u001b[39;49m\u001b[43m(\u001b[49m\u001b[38;5;28;43minput\u001b[39;49m\u001b[43m(\u001b[49m\u001b[38;5;124;43m\"\u001b[39;49m\u001b[38;5;124;43mEnter the weight: \u001b[39;49m\u001b[38;5;124;43m\"\u001b[39;49m\u001b[43m)\u001b[49m\u001b[43m)\u001b[49m\n\u001b[0;32m     20\u001b[0m     value \u001b[38;5;241m=\u001b[39m \u001b[38;5;28mint\u001b[39m(\u001b[38;5;28minput\u001b[39m(\u001b[38;5;124m\"\u001b[39m\u001b[38;5;124mEnter the value: \u001b[39m\u001b[38;5;124m\"\u001b[39m))\n\u001b[0;32m     21\u001b[0m     items\u001b[38;5;241m.\u001b[39mappend((weight, value))\n",
      "\u001b[1;31mValueError\u001b[0m: invalid literal for int() with base 10: '7/8'"
     ]
    }
   ],
   "source": [
    "def fractional_knapsack(items, capacity):\n",
    "    # Sort items by decreasing order of value per unit weight\n",
    "    items.sort(key=lambda x: x[1] / x[0], reverse=True)\n",
    "    total_value = 0\n",
    "    for item in items:\n",
    "        if capacity == 0:\n",
    "            break\n",
    "        weight = min(item[0], capacity)\n",
    "        total_value += weight * (item[1] / item[0])\n",
    "        capacity -= weight\n",
    "    return total_value\n",
    "\n",
    "# Getting user input\n",
    "n = int(input(\"Enter the number of items: \"))\n",
    "capacity = int(input(\"Enter the capacity of the knapsack: \"))\n",
    "items = []\n",
    "for i in range(n):\n",
    "    print(f\"\\nItem {i+1}:\")\n",
    "    weight = int(input(\"Enter the weight: \"))\n",
    "    value = int(input(\"Enter the value: \"))\n",
    "    items.append((weight, value))\n",
    "\n",
    "# Solving fractional knapsack problem\n",
    "max_value = fractional_knapsack(items, capacity)\n",
    "\n",
    "# Printing results\n",
    "print(\"\\nMaximum value that can be obtained:\", max_value)\n"
   ]
  },
  {
   "cell_type": "code",
   "execution_count": 6,
   "id": "b4ff7614",
   "metadata": {},
   "outputs": [
    {
     "data": {
      "text/plain": [
       "32"
      ]
     },
     "execution_count": 6,
     "metadata": {},
     "output_type": "execute_result"
    }
   ],
   "source": [
    "632\n",
    "52\n",
    "32\n",
    "21\n",
    "321\n",
    "32\n",
    "\n"
   ]
  }
 ],
 "metadata": {
  "kernelspec": {
   "display_name": "Python 3 (ipykernel)",
   "language": "python",
   "name": "python3"
  },
  "language_info": {
   "codemirror_mode": {
    "name": "ipython",
    "version": 3
   },
   "file_extension": ".py",
   "mimetype": "text/x-python",
   "name": "python",
   "nbconvert_exporter": "python",
   "pygments_lexer": "ipython3",
   "version": "3.11.2"
  }
 },
 "nbformat": 4,
 "nbformat_minor": 5
}
