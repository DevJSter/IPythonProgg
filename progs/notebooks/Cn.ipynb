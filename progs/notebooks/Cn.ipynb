{
 "cells": [
  {
   "cell_type": "code",
   "execution_count": 1,
   "id": "4ef49c30",
   "metadata": {},
   "outputs": [
    {
     "name": "stdout",
     "output_type": "stream",
     "text": [
      "Enter the received Hamming code (7 bits): 1110100\n",
      "Error detected at position 5\n"
     ]
    }
   ],
   "source": [
    "def hamming_code_error_detection(data):\n",
    "    # Calculate the parity bits' positions\n",
    "    parity_positions = [1, 2, 4]\n",
    "\n",
    "    # Initialize parity bits\n",
    "    parity_bits = [0, 0, 0]\n",
    "\n",
    "    # Convert the data to a list of integers\n",
    "    data_bits = [int(bit) for bit in data]\n",
    "\n",
    "    # Calculate the parity bits\n",
    "    for i, position in enumerate(parity_positions):\n",
    "        parity_bits[i] = sum(data_bits[x] for x in range(len(data_bits)) if (x + 1) & position)\n",
    "\n",
    "    # Calculate the error position\n",
    "    error_position = sum([(parity_bits[i] % 2) * (2 ** i) for i in range(3)])\n",
    "\n",
    "    # Check for errors\n",
    "    if error_position > 0:\n",
    "        print(f\"Error detected at position {error_position}\")\n",
    "    else:\n",
    "        print(\"No errors detected.\")\n",
    "\n",
    "# Input from the user\n",
    "received_data = input(\"Enter the received Hamming code (7 bits): \")\n",
    "hamming_code_error_detection(received_data)\n"
   ]
  },
  {
   "cell_type": "code",
   "execution_count": 2,
   "id": "a9a81a53",
   "metadata": {},
   "outputs": [
    {
     "name": "stdout",
     "output_type": "stream",
     "text": [
      "Enter the received Hamming code (7 bits): 1110100\n",
      "Error detected at position 5\n",
      "Corrected data with parity bits: 1110000\n"
     ]
    }
   ],
   "source": [
    "def hamming_code_error_correction(data):\n",
    "    # Calculate the parity bits' positions\n",
    "    parity_positions = [1, 2, 4]\n",
    "\n",
    "    # Initialize parity bits\n",
    "    parity_bits = [0, 0, 0]\n",
    "\n",
    "    # Convert the data to a list of integers\n",
    "    data_bits = [int(bit) for bit in data]\n",
    "\n",
    "    # Calculate the parity bits\n",
    "    for i, position in enumerate(parity_positions):\n",
    "        parity_bits[i] = sum(data_bits[x] for x in range(len(data_bits)) if (x + 1) & position)\n",
    "\n",
    "    # Calculate the error position\n",
    "    error_position = sum([(parity_bits[i] % 2) * (2 ** i) for i in range(3)])\n",
    "\n",
    "    # Check for errors\n",
    "    if error_position > 0:\n",
    "        print(f\"Error detected at position {error_position}\")\n",
    "        # Invert the erroneous bit\n",
    "        data_bits[error_position - 1] ^= 1\n",
    "        print(f\"Corrected data with parity bits: {''.join(map(str, data_bits))}\")\n",
    "    else:\n",
    "        print(\"No errors detected.\")\n",
    "        print(f\"Corrected data with parity bits: {''.join(map(str, data_bits))}\")\n",
    "\n",
    "# Input from the user\n",
    "received_data = input(\"Enter the received Hamming code (7 bits): \")\n",
    "hamming_code_error_correction(received_data)\n"
   ]
  }
 ],
 "metadata": {
  "kernelspec": {
   "display_name": "Python 3 (ipykernel)",
   "language": "python",
   "name": "python3"
  },
  "language_info": {
   "codemirror_mode": {
    "name": "ipython",
    "version": 3
   },
   "file_extension": ".py",
   "mimetype": "text/x-python",
   "name": "python",
   "nbconvert_exporter": "python",
   "pygments_lexer": "ipython3",
   "version": "3.11.4"
  }
 },
 "nbformat": 4,
 "nbformat_minor": 5
}
