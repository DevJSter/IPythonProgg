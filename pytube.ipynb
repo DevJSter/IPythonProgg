{
 "cells": [
  {
   "cell_type": "code",
   "execution_count": null,
   "id": "c1bea6f0",
   "metadata": {},
   "outputs": [
    {
     "name": "stdout",
     "output_type": "stream",
     "text": [
      "THIS IS FOR EDUCATIONAL PURPOSES ONLY. I AM NOT RESPONSIBLE FOR WAHT YOU DO WITH THIS PROGRAM (press enter to continue)\n",
      "Do you want to download  (1. A single video or (2. Multiple videos: 1\n",
      "Where do you want to save the file: C:\\Users\\KAJAL\\Desktop\n",
      "What is the link: https://www.youtube.com/watch?v=BxnvdMtn3VI\n",
      "Author:  Shilpi Raj\n",
      "Published:  2021-07-15 00:00:00\n",
      "Title:  Garaiya Machhari\n",
      "Views:  170369876\n",
      "Description:  None\n",
      "Length (seconds):  216\n",
      "Rating:  None\n",
      "DOWNLOADING...\n",
      "DOWNLOAD COMPLETE\n",
      "What is the link: https://www.youtube.com/watch?v=SWS-ZytL7Xc\n",
      "Author:  ATUL KRISHAN STUDIO MIX\n",
      "Published:  2020-05-19 00:00:00\n",
      "Title:  जय राम रमा रमनं समनं |  श्री रामभद्राचार्य जी | संपादक-  अतुल कृष्ण | Jai Ram Ram Ramanam Shamanam\n",
      "Views:  1286717\n",
      "Description:  None\n",
      "Length (seconds):  463\n",
      "Rating:  None\n",
      "DOWNLOADING...\n",
      "DOWNLOAD COMPLETE\n"
     ]
    }
   ],
   "source": [
    "from pytube import YouTube\n",
    "from sys import argv\n",
    "input(\"THIS IS FOR EDUCATIONAL PURPOSES ONLY. I AM NOT RESPONSIBLE FOR WAHT YOU DO WITH THIS PROGRAM (press enter to continue)\")\n",
    "place = \"Where do you want to save the file: \"\n",
    "choice = input(\"Do you want to download  (1. A single video or (2. Multiple videos: \")\n",
    "\n",
    "if choice == '1':\n",
    "  save = input(place)\n",
    "  while True:\n",
    "    URL = input(\"What is the link: \")\n",
    "    yt = YouTube(URL)\n",
    "\n",
    "    print(\"Author: \", yt.author)\n",
    "    print(\"Published: \", yt.publish_date)\n",
    "    print(\"Title: \", yt.title)\n",
    "    print(\"Views: \", yt.views)\n",
    "    print(\"Description: \", yt.description)\n",
    "    print(\"Length (seconds): \", yt.length)\n",
    "    print(\"Rating: \", yt.rating)\n",
    "\n",
    "    print(\"DOWNLOADING...\")\n",
    "    yd = yt.streams.get_highest_resolution()\n",
    "    yd.download(save)\n",
    "    print(\"DOWNLOAD COMPLETE\")\n",
    "\n",
    "elif choice == '2':\n",
    "  save2 = input(place)\n",
    "  file = input(\"What is the file containing the links: \")\n",
    "  while True:\n",
    "    link = open(file, 'r')\n",
    "    for i in link:\n",
    "      yt = YouTube(i)\n",
    "      yd = yt.streams.get_highest_resolution()\n",
    "\n",
    "      print(\"Author: \", yt.author)\n",
    "      print(\"Title: \", yt.title)\n",
    "      print(\"Views: \", yt.views)\n",
    "      print(\"Description: \", yt.description)\n",
    "      print(\"Length (Seconds)\", yt.length)\n",
    "      print(\"Published: \", yt.publish_date)\n",
    "      print(\"Rating: \", yt.rating)\n",
    "      print(\"DOWNLOADING...\")\n",
    "      yd.download(save2)\n",
    "    print(\"FINISHED\")\n",
    "  "
   ]
  },
  {
   "cell_type": "code",
   "execution_count": null,
   "id": "91d15630",
   "metadata": {},
   "outputs": [],
   "source": []
  }
 ],
 "metadata": {
  "kernelspec": {
   "display_name": "Python 3 (ipykernel)",
   "language": "python",
   "name": "python3"
  },
  "language_info": {
   "codemirror_mode": {
    "name": "ipython",
    "version": 3
   },
   "file_extension": ".py",
   "mimetype": "text/x-python",
   "name": "python",
   "nbconvert_exporter": "python",
   "pygments_lexer": "ipython3",
   "version": "3.11.4"
  }
 },
 "nbformat": 4,
 "nbformat_minor": 5
}
