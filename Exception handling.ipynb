{
 "cells": [
  {
   "cell_type": "code",
   "execution_count": 2,
   "id": "29dfe58f",
   "metadata": {},
   "outputs": [
    {
     "name": "stdout",
     "output_type": "stream",
     "text": [
      "list index out of range\n",
      "The Program has been executed\n"
     ]
    }
   ],
   "source": [
    "#Program to demonstrate exception handling and inheritance\n",
    "\n",
    "print(\n",
    "  \"\\n\\n*******i)To demonstrate exceptional handling using try, catch and finally******\\n\\n\"\n",
    ")\n",
    "array = [13, \"Dev\", False, 33.30]\n",
    "counter = 5\n",
    "try:\n",
    "  for i in array:\n",
    "    print(\"The {} value is {}\".format(i, array[counter]))\n",
    "    counter += counter + 1\n",
    "except IndexError as e:\n",
    "  print(e)\n",
    "finally:\n",
    "  print(\"The Program has been executed\")"
   ]
  },
  {
   "cell_type": "code",
   "execution_count": 5,
   "id": "b9edad7e",
   "metadata": {},
   "outputs": [
    {
     "name": "stdout",
     "output_type": "stream",
     "text": [
      "\n",
      "\n",
      "*****ii)To demonstrate exceptional handling using multiple except block*****\n",
      "\n",
      "\n",
      "Can't find the key in the dictionary\n"
     ]
    }
   ],
   "source": [
    "print(\n",
    "  \"\\n\\n*****ii)To demonstrate exceptional handling using multiple except block*****\\n\\n\"\n",
    ")\n",
    "my_dictionary = {'Rohit': 100, 'Virat': 100, 'Shubhman': 100}\n",
    "try:\n",
    "  print(my_dictionary[1])\n",
    "except IndentationError:\n",
    "  print(\"There is an Identation Error\")\n",
    "except IndexError:\n",
    "  print(\"Index  is out of bound\")\n",
    "except KeyError:\n",
    "  print(\"Can't find the key in the dictionary\")\n",
    "except:\n",
    "  print(\"There is some error in the program\")"
   ]
  },
  {
   "cell_type": "code",
   "execution_count": 3,
   "id": "d38b384d",
   "metadata": {},
   "outputs": [
    {
     "name": "stdout",
     "output_type": "stream",
     "text": [
      "\n",
      "\n",
      "*****To demonstrate exceptional handling using mutiple exception in a single block*****\n",
      "\n",
      "\n",
      "Enter a string to add with number :\n",
      "14\n",
      "can only concatenate str (not \"int\") to str\n",
      "\n",
      "\n",
      "******Program to find factorial of a number , Use exception for negative numbers*****\n",
      "\n",
      "\n",
      "Enter a number to find factorial for :\n",
      "1\n",
      "The result of 1 factorial is 1\n"
     ]
    }
   ],
   "source": [
    "print(\n",
    "  \"\\n\\n*****To demonstrate exceptional handling using mutiple exception in a single block*****\\n\\n\"\n",
    ")\n",
    "\n",
    "stringinput = input(\"Enter a string to add with number :\\n\")\n",
    "numinput = 5\n",
    "try:\n",
    "  print(stringinput + numinput)\n",
    "except (KeyError, IndentationError, IndexError, ValueError, TypeError) as e:\n",
    "  print(e)\n",
    "\n",
    "print(\n",
    "  \"\\n\\n******Program to find factorial of a number , Use exception for negative numbers*****\\n\\n\"\n",
    ")\n",
    "num = int(input(\"Enter a number to find factorial for :\\n\"))\n",
    "\n",
    "def fact(num):\n",
    "  if (num == 0 or num == 1):\n",
    "    return 1\n",
    "  else:\n",
    "    return num * fact(num - 1)\n",
    "    \n",
    "try:\n",
    "  print(\"The result of {} factorial is {}\".format(num, fact(num)))\n",
    "except RecursionError:\n",
    "  print(\"Factorial can't be calculated for a negative value.\\n\")\n",
    "\n"
   ]
  },
  {
   "cell_type": "code",
   "execution_count": null,
   "id": "e9fa5f82",
   "metadata": {},
   "outputs": [],
   "source": []
  }
 ],
 "metadata": {
  "kernelspec": {
   "display_name": "Python 3 (ipykernel)",
   "language": "python",
   "name": "python3"
  },
  "language_info": {
   "codemirror_mode": {
    "name": "ipython",
    "version": 3
   },
   "file_extension": ".py",
   "mimetype": "text/x-python",
   "name": "python",
   "nbconvert_exporter": "python",
   "pygments_lexer": "ipython3",
   "version": "3.11.2"
  }
 },
 "nbformat": 4,
 "nbformat_minor": 5
}
