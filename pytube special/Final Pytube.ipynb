{
 "cells": [
  {
   "cell_type": "code",
   "execution_count": null,
   "id": "723cced5",
   "metadata": {},
   "outputs": [
    {
     "name": "stdout",
     "output_type": "stream",
     "text": [
      "Where do you want to save the file: \n",
      "Do you want to download (1. Video, 2. Audio, 3. Both): 1\n",
      "What is the link: https://youtu.be/c8_tafixiAs?si=7XPqiCUURP4u5Q3P\n",
      "Author:  Harkirat Singh\n",
      "Published:  2024-02-08 00:00:00\n",
      "Title:  Code along - I built Vercel in 4 Hours (System Design, AWS, Redis, S3)\n",
      "Views:  1278\n",
      "Description:  None\n",
      "Length (seconds):  9455\n",
      "Rating:  None\n",
      "Available Video Formats:\n",
      "1. 720p - 453.43 MB\n",
      "2. 480p - 235.63 MB\n",
      "3. 360p - 146.11 MB\n",
      "4. 240p - 79.82 MB\n",
      "5. 144p - 38.20 MB\n",
      "Enter the number corresponding to the desired video or audio quality: 1\n",
      "DOWNLOADING...\n"
     ]
    }
   ],
   "source": [
    "from pytube import YouTube\n",
    "\n",
    "place = input(\"Where do you want to save the file: \")\n",
    "choice = input(\"Do you want to download (1. Video, 2. Audio, 3. Both): \")\n",
    "\n",
    "while choice not in ['1', '2', '3']:\n",
    "    print(\"Invalid choice. Please enter 1, 2, or 3.\")\n",
    "    choice = input(\"Do you want to download (1. Video, 2. Audio, 3. Both): \")\n",
    "\n",
    "URL = input(\"What is the link: \")\n",
    "\n",
    "try:\n",
    "    yt = YouTube(URL)\n",
    "except Exception as e:\n",
    "    print(\"Error: \", str(e))\n",
    "    exit()\n",
    "\n",
    "if choice == '1' or choice == '3':\n",
    "    print(\"Author: \", yt.author)\n",
    "    print(\"Published: \", yt.publish_date)\n",
    "    print(\"Title: \", yt.title)\n",
    "    print(\"Views: \", yt.views)\n",
    "    print(\"Description: \", yt.description)\n",
    "    print(\"Length (seconds): \", yt.length)\n",
    "    print(\"Rating: \", yt.rating)\n",
    "\n",
    "    available_streams = yt.streams.filter(file_extension='mp4', only_video=True)\n",
    "    if not available_streams:\n",
    "        print(\"No valid video streams found for this video.\")\n",
    "    else:\n",
    "        print(\"Available Video Formats:\")\n",
    "        for idx, stream in enumerate(available_streams):\n",
    "            print(f\"{idx + 1}. {stream.resolution if stream.resolution else 'Audio only'} - {stream.filesize / (1024 * 1024):.2f} MB\")\n",
    "\n",
    "        selected_stream_index = int(input(\"Enter the number corresponding to the desired video or audio quality: \")) - 1\n",
    "\n",
    "        if 0 <= selected_stream_index < len(available_streams):\n",
    "            yd = available_streams[selected_stream_index]\n",
    "            print(\"DOWNLOADING...\")\n",
    "            yd.download(place)\n",
    "            print(\"DOWNLOAD COMPLETE\")\n",
    "        else:\n",
    "            print(\"Invalid selection. Please choose a valid number.\")\n",
    "\n",
    "if choice == '2' or choice == '3':\n",
    "    audio_streams = yt.streams.filter( only_audio=True)\n",
    "    if not audio_streams:\n",
    "        print(\"No valid audio streams found for this video.\")\n",
    "    else:\n",
    "        print(\"Available Audio Formats:\")\n",
    "        for idx, stream in enumerate(audio_streams):\n",
    "            print(f\"{idx + 1}. {stream.abr}kbps\")\n",
    "\n",
    "        selected_stream_index = int(input(\"Enter the number corresponding to the desired audio quality: \")) - 1\n",
    "\n",
    "        if 0 <= selected_stream_index < len(audio_streams):\n",
    "            audio_stream = audio_streams[selected_stream_index]\n",
    "            print(\"DOWNLOADING...\")\n",
    "\n",
    "            # Save audio with video title as filename\n",
    "            video_title = yt.title\n",
    "            audio_filename = f\"{video_title}.mp3\"\n",
    "            audio_stream.download(place, filename=audio_filename)\n",
    "\n",
    "            print(\"DOWNLOAD COMPLETE\")\n",
    "        else:\n",
    "            print(\"Invalid selection. Please choose a valid number.\")\n"
   ]
  },
  {
   "cell_type": "code",
   "execution_count": null,
   "id": "4b17f88e",
   "metadata": {},
   "outputs": [],
   "source": [
    "C:\\Users\\KAJAL\\Desktop\\babbar"
   ]
  },
  {
   "cell_type": "code",
   "execution_count": null,
   "id": "7e83b8fd",
   "metadata": {},
   "outputs": [],
   "source": [
    "https://youtu.be/6z2HK4o8qcU?si=6lWpxYxFnPOCy9zM"
   ]
  },
  {
   "cell_type": "code",
   "execution_count": null,
   "id": "c5b2e877",
   "metadata": {},
   "outputs": [],
   "source": [
    "https://youtu.be/c8_tafixiAs?si=7XPqiCUURP4u5Q3P"
   ]
  }
 ],
 "metadata": {
  "kernelspec": {
   "display_name": "Python 3 (ipykernel)",
   "language": "python",
   "name": "python3"
  },
  "language_info": {
   "codemirror_mode": {
    "name": "ipython",
    "version": 3
   },
   "file_extension": ".py",
   "mimetype": "text/x-python",
   "name": "python",
   "nbconvert_exporter": "python",
   "pygments_lexer": "ipython3",
   "version": "3.11.4"
  }
 },
 "nbformat": 4,
 "nbformat_minor": 5
}
