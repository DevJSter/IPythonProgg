{
 "cells": [
  {
   "cell_type": "code",
   "execution_count": 2,
   "id": "c1bea6f0",
   "metadata": {},
   "outputs": [
    {
     "name": "stdout",
     "output_type": "stream",
     "text": [
      "THIS IS FOR EDUCATIONAL PURPOSES ONLY. I AM NOT RESPONSIBLE FOR WAHT YOU DO WITH THIS PROGRAM (press enter to continue)1\n",
      "Do you want to download  (1. A single video or (2. Multiple videos: 1\n",
      "Where do you want to save the file: C:\\Users\\KAJAL\\Desktop>\n",
      "What is the link: https://www.youtube.com/watch?v=1XqIWr_WqM4&list=RD1XqIWr_WqM4&start_radio=1\n",
      "Author:  The Weeknd\n",
      "Published:  2023-01-07 00:00:00\n",
      "Title:  Is There Someone Else?\n",
      "Views:  32715280\n",
      "Description:  None\n",
      "Length (seconds):  254\n",
      "Rating:  None\n",
      "DOWNLOADING...\n"
     ]
    },
    {
     "ename": "OSError",
     "evalue": "[WinError 123] The filename, directory name, or volume label syntax is incorrect: 'C:\\\\Users\\\\KAJAL\\\\Desktop>'",
     "output_type": "error",
     "traceback": [
      "\u001b[1;31m---------------------------------------------------------------------------\u001b[0m",
      "\u001b[1;31mOSError\u001b[0m                                   Traceback (most recent call last)",
      "Cell \u001b[1;32mIn[2], line 23\u001b[0m\n\u001b[0;32m     21\u001b[0m     \u001b[38;5;28mprint\u001b[39m(\u001b[38;5;124m\"\u001b[39m\u001b[38;5;124mDOWNLOADING...\u001b[39m\u001b[38;5;124m\"\u001b[39m)\n\u001b[0;32m     22\u001b[0m     yd \u001b[38;5;241m=\u001b[39m yt\u001b[38;5;241m.\u001b[39mstreams\u001b[38;5;241m.\u001b[39mget_highest_resolution()\n\u001b[1;32m---> 23\u001b[0m     \u001b[43myd\u001b[49m\u001b[38;5;241;43m.\u001b[39;49m\u001b[43mdownload\u001b[49m\u001b[43m(\u001b[49m\u001b[43msave\u001b[49m\u001b[43m)\u001b[49m\n\u001b[0;32m     24\u001b[0m     \u001b[38;5;28mprint\u001b[39m(\u001b[38;5;124m\"\u001b[39m\u001b[38;5;124mDOWNLOAD COMPLETE\u001b[39m\u001b[38;5;124m\"\u001b[39m)\n\u001b[0;32m     26\u001b[0m \u001b[38;5;28;01melif\u001b[39;00m choice \u001b[38;5;241m==\u001b[39m \u001b[38;5;124m'\u001b[39m\u001b[38;5;124m2\u001b[39m\u001b[38;5;124m'\u001b[39m:\n",
      "File \u001b[1;32mC:\\Python311\\Lib\\site-packages\\pytube\\streams.py:298\u001b[0m, in \u001b[0;36mStream.download\u001b[1;34m(self, output_path, filename, filename_prefix, skip_existing, timeout, max_retries)\u001b[0m\n\u001b[0;32m    258\u001b[0m \u001b[38;5;28;01mdef\u001b[39;00m \u001b[38;5;21mdownload\u001b[39m(\n\u001b[0;32m    259\u001b[0m     \u001b[38;5;28mself\u001b[39m,\n\u001b[0;32m    260\u001b[0m     output_path: Optional[\u001b[38;5;28mstr\u001b[39m] \u001b[38;5;241m=\u001b[39m \u001b[38;5;28;01mNone\u001b[39;00m,\n\u001b[1;32m   (...)\u001b[0m\n\u001b[0;32m    265\u001b[0m     max_retries: Optional[\u001b[38;5;28mint\u001b[39m] \u001b[38;5;241m=\u001b[39m \u001b[38;5;241m0\u001b[39m\n\u001b[0;32m    266\u001b[0m ) \u001b[38;5;241m-\u001b[39m\u001b[38;5;241m>\u001b[39m \u001b[38;5;28mstr\u001b[39m:\n\u001b[0;32m    267\u001b[0m \u001b[38;5;250m    \u001b[39m\u001b[38;5;124;03m\"\"\"Write the media stream to disk.\u001b[39;00m\n\u001b[0;32m    268\u001b[0m \n\u001b[0;32m    269\u001b[0m \u001b[38;5;124;03m    :param output_path:\u001b[39;00m\n\u001b[1;32m   (...)\u001b[0m\n\u001b[0;32m    296\u001b[0m \n\u001b[0;32m    297\u001b[0m \u001b[38;5;124;03m    \"\"\"\u001b[39;00m\n\u001b[1;32m--> 298\u001b[0m     file_path \u001b[38;5;241m=\u001b[39m \u001b[38;5;28;43mself\u001b[39;49m\u001b[38;5;241;43m.\u001b[39;49m\u001b[43mget_file_path\u001b[49m\u001b[43m(\u001b[49m\n\u001b[0;32m    299\u001b[0m \u001b[43m        \u001b[49m\u001b[43mfilename\u001b[49m\u001b[38;5;241;43m=\u001b[39;49m\u001b[43mfilename\u001b[49m\u001b[43m,\u001b[49m\n\u001b[0;32m    300\u001b[0m \u001b[43m        \u001b[49m\u001b[43moutput_path\u001b[49m\u001b[38;5;241;43m=\u001b[39;49m\u001b[43moutput_path\u001b[49m\u001b[43m,\u001b[49m\n\u001b[0;32m    301\u001b[0m \u001b[43m        \u001b[49m\u001b[43mfilename_prefix\u001b[49m\u001b[38;5;241;43m=\u001b[39;49m\u001b[43mfilename_prefix\u001b[49m\u001b[43m,\u001b[49m\n\u001b[0;32m    302\u001b[0m \u001b[43m    \u001b[49m\u001b[43m)\u001b[49m\n\u001b[0;32m    304\u001b[0m     \u001b[38;5;28;01mif\u001b[39;00m skip_existing \u001b[38;5;129;01mand\u001b[39;00m \u001b[38;5;28mself\u001b[39m\u001b[38;5;241m.\u001b[39mexists_at_path(file_path):\n\u001b[0;32m    305\u001b[0m         logger\u001b[38;5;241m.\u001b[39mdebug(\u001b[38;5;124mf\u001b[39m\u001b[38;5;124m'\u001b[39m\u001b[38;5;124mfile \u001b[39m\u001b[38;5;132;01m{\u001b[39;00mfile_path\u001b[38;5;132;01m}\u001b[39;00m\u001b[38;5;124m already exists, skipping\u001b[39m\u001b[38;5;124m'\u001b[39m)\n",
      "File \u001b[1;32mC:\\Python311\\Lib\\site-packages\\pytube\\streams.py:349\u001b[0m, in \u001b[0;36mStream.get_file_path\u001b[1;34m(self, filename, output_path, filename_prefix)\u001b[0m\n\u001b[0;32m    347\u001b[0m \u001b[38;5;28;01mif\u001b[39;00m filename_prefix:\n\u001b[0;32m    348\u001b[0m     filename \u001b[38;5;241m=\u001b[39m \u001b[38;5;124mf\u001b[39m\u001b[38;5;124m\"\u001b[39m\u001b[38;5;132;01m{\u001b[39;00mfilename_prefix\u001b[38;5;132;01m}\u001b[39;00m\u001b[38;5;132;01m{\u001b[39;00mfilename\u001b[38;5;132;01m}\u001b[39;00m\u001b[38;5;124m\"\u001b[39m\n\u001b[1;32m--> 349\u001b[0m \u001b[38;5;28;01mreturn\u001b[39;00m os\u001b[38;5;241m.\u001b[39mpath\u001b[38;5;241m.\u001b[39mjoin(\u001b[43mtarget_directory\u001b[49m\u001b[43m(\u001b[49m\u001b[43moutput_path\u001b[49m\u001b[43m)\u001b[49m, filename)\n",
      "File \u001b[1;32mC:\\Python311\\Lib\\site-packages\\pytube\\helpers.py:254\u001b[0m, in \u001b[0;36mtarget_directory\u001b[1;34m(output_path)\u001b[0m\n\u001b[0;32m    252\u001b[0m \u001b[38;5;28;01melse\u001b[39;00m:\n\u001b[0;32m    253\u001b[0m     output_path \u001b[38;5;241m=\u001b[39m os\u001b[38;5;241m.\u001b[39mgetcwd()\n\u001b[1;32m--> 254\u001b[0m \u001b[43mos\u001b[49m\u001b[38;5;241;43m.\u001b[39;49m\u001b[43mmakedirs\u001b[49m\u001b[43m(\u001b[49m\u001b[43moutput_path\u001b[49m\u001b[43m,\u001b[49m\u001b[43m \u001b[49m\u001b[43mexist_ok\u001b[49m\u001b[38;5;241;43m=\u001b[39;49m\u001b[38;5;28;43;01mTrue\u001b[39;49;00m\u001b[43m)\u001b[49m\n\u001b[0;32m    255\u001b[0m \u001b[38;5;28;01mreturn\u001b[39;00m output_path\n",
      "File \u001b[1;32m<frozen os>:225\u001b[0m, in \u001b[0;36mmakedirs\u001b[1;34m(name, mode, exist_ok)\u001b[0m\n",
      "\u001b[1;31mOSError\u001b[0m: [WinError 123] The filename, directory name, or volume label syntax is incorrect: 'C:\\\\Users\\\\KAJAL\\\\Desktop>'"
     ]
    }
   ],
   "source": [
    "from pytube import YouTube\n",
    "from sys import argv\n",
    "input(\"THIS IS FOR EDUCATIONAL PURPOSES ONLY. I AM NOT RESPONSIBLE FOR WAHT YOU DO WITH THIS PROGRAM (press enter to continue)\")\n",
    "place = \"Where do you want to save the file: \"\n",
    "choice = input(\"Do you want to download  (1. A single video or (2. Multiple videos: \")\n",
    "\n",
    "if choice == '1':\n",
    "  save = input(place)\n",
    "  while True:\n",
    "    URL = input(\"What is the link: \")\n",
    "    yt = YouTube(URL)\n",
    "\n",
    "    print(\"Author: \", yt.author)\n",
    "    print(\"Published: \", yt.publish_date)\n",
    "    print(\"Title: \", yt.title)\n",
    "    print(\"Views: \", yt.views)\n",
    "    print(\"Description: \", yt.description)\n",
    "    print(\"Length (seconds): \", yt.length)\n",
    "    print(\"Rating: \", yt.rating)\n",
    "\n",
    "    print(\"DOWNLOADING...\")\n",
    "    yd = yt.streams.get_highest_resolution()\n",
    "    yd.download(save)\n",
    "    print(\"DOWNLOAD COMPLETE\")\n",
    "\n",
    "elif choice == '2':\n",
    "  save2 = input(place)\n",
    "  file = input(\"What is the file containing the links: \")\n",
    "  while True:\n",
    "    link = open(file, 'r')\n",
    "    for i in link:\n",
    "      yt = YouTube(i)\n",
    "      yd = yt.streams.get_highest_resolution()\n",
    "\n",
    "      print(\"Author: \", yt.author)\n",
    "      print(\"Title: \", yt.title)\n",
    "      print(\"Views: \", yt.views)\n",
    "      print(\"Description: \", yt.description)\n",
    "      print(\"Length (Seconds)\", yt.length)\n",
    "      print(\"Published: \", yt.publish_date)\n",
    "      print(\"Rating: \", yt.rating)\n",
    "      print(\"DOWNLOADING...\")\n",
    "      yd.download(save2)\n",
    "    print(\"FINISHED\")\n",
    "  "
   ]
  },
  {
   "cell_type": "code",
   "execution_count": null,
   "id": "91d15630",
   "metadata": {},
   "outputs": [],
   "source": [
    "https://www.youtube.com/watch?v=1XqIWr_WqM4&list=RD1XqIWr_WqM4&start_radio=1"
   ]
  }
 ],
 "metadata": {
  "kernelspec": {
   "display_name": "Python 3 (ipykernel)",
   "language": "python",
   "name": "python3"
  },
  "language_info": {
   "codemirror_mode": {
    "name": "ipython",
    "version": 3
   },
   "file_extension": ".py",
   "mimetype": "text/x-python",
   "name": "python",
   "nbconvert_exporter": "python",
   "pygments_lexer": "ipython3",
   "version": "3.11.4"
  }
 },
 "nbformat": 4,
 "nbformat_minor": 5
}
