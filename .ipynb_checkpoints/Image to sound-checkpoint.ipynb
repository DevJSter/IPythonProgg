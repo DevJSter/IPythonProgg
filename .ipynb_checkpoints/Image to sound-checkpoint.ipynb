{
 "cells": [
  {
   "cell_type": "code",
   "execution_count": null,
   "id": "83a50f31",
   "metadata": {},
   "outputs": [],
   "source": [
    "from PIL import Image\n",
    "from gtts import gTTS\n",
    "from pytesseract import image_to_string\n",
    "import os\n",
    "\n",
    "\n",
    "def Image_to_sound(image_path):\n",
    "    \"\"\"\n",
    "    Function for converting an image to sound\n",
    "    \"\"\"\n",
    "    try:\n",
    "        loaded_image = Image.open(image_path)\n",
    "        decoded_text = image_to_string(loaded_image)\n",
    "        cleaned_text = \" \".join(decoded_text.split(\"\\n\"))\n",
    "        print(cleaned_text)\n",
    "        sound = gTTS(cleaned_text, lang=\"en\")\n",
    "        sound.save(\"sound1.mp3\")\n",
    "        return True\n",
    "    except Exception as bug:\n",
    "        print(\"The bug thrown while executing the code\\n\", bug)\n",
    "        return\n",
    "\n",
    "\n",
    "if __name__ == \"__main__\":\n",
    "    directory = \"C:\\\\Users\\\\KAJAL\\\\Desktop\\\\Projects\\\\image-to-sound-python--master\"\n",
    "    filename = \"image.jpg\"\n",
    "    image_path = os.path.join(directory, filename)\n",
    "    Image_to_sound(image_path)\n",
    "    input()"
   ]
  },
  {
   "cell_type": "code",
   "execution_count": null,
   "id": "46c5334e",
   "metadata": {},
   "outputs": [],
   "source": []
  },
  {
   "cell_type": "code",
   "execution_count": null,
   "id": "af7336ca",
   "metadata": {},
   "outputs": [],
   "source": []
  }
 ],
 "metadata": {
  "kernelspec": {
   "display_name": "Python 3 (ipykernel)",
   "language": "python",
   "name": "python3"
  },
  "language_info": {
   "codemirror_mode": {
    "name": "ipython",
    "version": 3
   },
   "file_extension": ".py",
   "mimetype": "text/x-python",
   "name": "python",
   "nbconvert_exporter": "python",
   "pygments_lexer": "ipython3",
   "version": "3.11.2"
  }
 },
 "nbformat": 4,
 "nbformat_minor": 5
}
