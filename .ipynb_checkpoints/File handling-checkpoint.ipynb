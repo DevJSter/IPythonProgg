{
 "cells": [
  {
   "cell_type": "code",
   "execution_count": 28,
   "id": "697cef1b",
   "metadata": {},
   "outputs": [
    {
     "name": "stdout",
     "output_type": "stream",
     "text": [
      "Hi I am John...\n"
     ]
    }
   ],
   "source": [
    "f=open(\"seb.txt\",\"w\")\n",
    "f.write(\"Hi I am John...\")\n",
    "f.close() \n",
    "k=open(\"seb.txt\",\"r\")\n",
    "print(k.read())\n",
    "k.close()"
   ]
  },
  {
   "cell_type": "code",
   "execution_count": 29,
   "id": "b05ac68e",
   "metadata": {},
   "outputs": [
    {
     "name": "stdout",
     "output_type": "stream",
     "text": [
      "\n",
      " Hi Am SHUBHAM \n",
      "\n",
      "\n",
      " Hi Am SHUBHAM \n",
      "\n",
      " Hi Am SHUBHAM \n",
      "\n"
     ]
    }
   ],
   "source": [
    "f=open(\"hi.txt\",\"a\")\n",
    "f.write(\"\\n Hi Am SHUBHAM \\n\")\n",
    "f.close()\n",
    "k=open(\"hi.txt\",\"r\")\n",
    "print(k.read())\n",
    "k.close()"
   ]
  },
  {
   "cell_type": "code",
   "execution_count": 26,
   "id": "5a61cf69",
   "metadata": {},
   "outputs": [
    {
     "name": "stdout",
     "output_type": "stream",
     "text": [
      "Failure will never overtake me if my definition to succeed is strong enough. \n",
      "Man needs difficulties in life because they are necessary to enjoy the success.\n",
      "If you want to shine like a sun. First burn like a sun.\n",
      "\n"
     ]
    }
   ],
   "source": [
    "f=open(\"count.txt\",\"r\") \n",
    "print(f.read())\n",
    "f.close()"
   ]
  },
  {
   "cell_type": "code",
   "execution_count": 4,
   "id": "6db9520d",
   "metadata": {},
   "outputs": [
    {
     "name": "stdout",
     "output_type": "stream",
     "text": [
      "Failure will never overtake me if my definition to succeed is strong enough. \n",
      "\n",
      "Man needs difficulties in life because they are necessary to enjoy the success.\n",
      "\n",
      "If you want to shine like a sun. First burn like a sun.\n",
      "\n"
     ]
    }
   ],
   "source": [
    "f=open(\"count.txt\",\"r\")\n",
    "for line in f:     \n",
    "    print(line)\n",
    "f.close()"
   ]
  },
  {
   "cell_type": "code",
   "execution_count": 5,
   "id": "f3e9b315",
   "metadata": {},
   "outputs": [
    {
     "name": "stdout",
     "output_type": "stream",
     "text": [
      "14\n",
      "13\n",
      "13\n"
     ]
    }
   ],
   "source": [
    "f=open(\"count.txt\",\"r\")\n",
    "for line in f:\n",
    "    tokens=line.split(' ')  \n",
    "    print(len(tokens))\n",
    "f.close()"
   ]
  },
  {
   "cell_type": "code",
   "execution_count": 21,
   "id": "6ca6b4e6",
   "metadata": {},
   "outputs": [
    {
     "name": "stdout",
     "output_type": "stream",
     "text": [
      "\n",
      "Failure will never overtake me if my definition to succeed is strong enough. \n",
      "\n",
      " WordCount\n",
      " 14\n",
      "Man needs difficulties in life because they are necessary to enjoy the success.\n",
      "\n",
      " WordCount\n",
      " 13\n",
      "If you want to shine like a sun. First burn like a sun.\n",
      "\n",
      " WordCount\n",
      " 13\n"
     ]
    }
   ],
   "source": [
    "f=open(\"count.txt\",\"r\") \n",
    "f_dis=open(\"count_dis.txt\",\"w\")\n",
    "for line in f:\n",
    "    tokens=line.split(' ')\n",
    "    f_dis.write(\"\\n\"+line+\"\\n WordCount\\n \"+str(len(tokens))) \n",
    "f.close()\n",
    "f_dis.close()\n",
    "k=open(\"count_dis.txt\",\"r\")\n",
    "print(k.read())\n",
    "k.close()"
   ]
  },
  {
   "cell_type": "code",
   "execution_count": 7,
   "id": "f692b1f6",
   "metadata": {},
   "outputs": [
    {
     "name": "stdout",
     "output_type": "stream",
     "text": [
      "Number of characters in text file : 214\n"
     ]
    }
   ],
   "source": [
    "file = open(\"count.txt\", \"r\")\n",
    "data = file.read()\n",
    "number_of_characters = len(data)\n",
    "print('Number of characters in text file :', number_of_characters)"
   ]
  },
  {
   "cell_type": "code",
   "execution_count": 9,
   "id": "bad0a943",
   "metadata": {},
   "outputs": [
    {
     "name": "stdout",
     "output_type": "stream",
     "text": [
      "Number of words in text file : 39\n"
     ]
    }
   ],
   "source": [
    "file = open(\"count.txt\", \"r\") \n",
    "data = file.read() \n",
    "words = data.split()\n",
    "print('Number of words in text file :', len(words))"
   ]
  },
  {
   "cell_type": "code",
   "execution_count": 11,
   "id": "15b78eec",
   "metadata": {},
   "outputs": [
    {
     "name": "stdout",
     "output_type": "stream",
     "text": [
      "Failure will never overtake me if my definition to succeed is strong enough. \n",
      "Man needs difficulties in life because they are necessary to enjoy the success.\n",
      "If you want to shine like a sun. First burn like a sun.\n",
      "\n"
     ]
    }
   ],
   "source": [
    "with open(\"count.txt\",\"r\") as f:\n",
    "    print(f.read())"
   ]
  },
  {
   "cell_type": "code",
   "execution_count": 17,
   "id": "029b56f3",
   "metadata": {},
   "outputs": [
    {
     "name": "stdout",
     "output_type": "stream",
     "text": [
      "Number of lines:\n",
      "1\n",
      "Number of lines:\n",
      "2\n",
      "Number of lines:\n",
      "3\n"
     ]
    }
   ],
   "source": [
    "num_lines = 0 \n",
    "with open(\"count.txt\",\"r\") as f:\n",
    "    for line in f:\n",
    "        num_lines += 1 \n",
    "        print(\"Number of lines:\") \n",
    "        print(num_lines)"
   ]
  }
 ],
 "metadata": {
  "kernelspec": {
   "display_name": "Python 3 (ipykernel)",
   "language": "python",
   "name": "python3"
  },
  "language_info": {
   "codemirror_mode": {
    "name": "ipython",
    "version": 3
   },
   "file_extension": ".py",
   "mimetype": "text/x-python",
   "name": "python",
   "nbconvert_exporter": "python",
   "pygments_lexer": "ipython3",
   "version": "3.11.2"
  }
 },
 "nbformat": 4,
 "nbformat_minor": 5
}
