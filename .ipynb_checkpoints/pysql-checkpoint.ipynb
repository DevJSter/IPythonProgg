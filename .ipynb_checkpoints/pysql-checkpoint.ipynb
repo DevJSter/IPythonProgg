{
 "cells": [
  {
   "cell_type": "code",
   "execution_count": null,
   "id": "76852554",
   "metadata": {},
   "outputs": [],
   "source": [
    "import socket\n",
    "\n",
    "def server_program():\n",
    "\n",
    "    host = socket.gethostname()\n",
    "    port = 5000\n",
    "\n",
    "    server_socket = socket.socket()\n",
    "\n",
    "    server_socket.bind((host, port))\n",
    "\n",
    "\n",
    "    server_socket.listen(2)\n",
    "    conn, address = server_socket.accept()\n",
    "    print(\"Connection from: \" + str(address))\n",
    "    while True:\n",
    "\n",
    "\n",
    "        data = conn.recv(1024).decode()\n",
    "        if not data:\n",
    "\n",
    "            break\n",
    "        print(\"from connected user: \" + str(data))\n",
    "        data = input(' -> ')\n",
    "        conn.send(data.encode())\n",
    "\n",
    "    conn.close()\n",
    "\n",
    "\n",
    "if __name__ == '__main__':\n",
    "    server_program()\n"
   ]
  },
  {
   "cell_type": "code",
   "execution_count": null,
   "id": "1f6f222a",
   "metadata": {},
   "outputs": [],
   "source": [
    "import socket\n",
    "\n",
    "\n",
    "def client_program():\n",
    "    host = socket.gethostname()\n",
    "    port = 5000\n",
    "\n",
    "    client_socket = socket.socket()\n",
    "    client_socket.connect((host, port))\n",
    "\n",
    "    message = input(\" -> \")\n",
    "\n",
    "    while message.lower().strip() != 'thank you':\n",
    "        client_socket.send(message.encode())\n",
    "        data = client_socket.recv(1024).decode()\n",
    "\n",
    "        print('Received from server: ' + data)\n",
    "\n",
    "        \n",
    "        message = input(\" -> \")\n",
    "    client_socket.close()\n",
    "\n",
    "\n",
    "if __name__ == '__main__':\n",
    "    client_program(\n"
   ]
  }
 ],
 "metadata": {
  "kernelspec": {
   "display_name": "Python 3 (ipykernel)",
   "language": "python",
   "name": "python3"
  },
  "language_info": {
   "codemirror_mode": {
    "name": "ipython",
    "version": 3
   },
   "file_extension": ".py",
   "mimetype": "text/x-python",
   "name": "python",
   "nbconvert_exporter": "python",
   "pygments_lexer": "ipython3",
   "version": "3.11.2"
  }
 },
 "nbformat": 4,
 "nbformat_minor": 5
}
