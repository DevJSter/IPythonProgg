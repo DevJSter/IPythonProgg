{
 "cells": [
  {
   "cell_type": "code",
   "execution_count": 1,
   "id": "e1754f27",
   "metadata": {},
   "outputs": [
    {
     "name": "stdout",
     "output_type": "stream",
     "text": [
      "Enter your Birth Year2003\n",
      "Your age is  20\n"
     ]
    }
   ],
   "source": [
    "birth_year=int(input(\"Enter your Birth Year\"))\n",
    "age=2023-birth_year\n",
    "print(\"Your age is \",age)"
   ]
  },
  {
   "cell_type": "code",
   "execution_count": 1,
   "id": "500f212f",
   "metadata": {},
   "outputs": [
    {
     "name": "stdout",
     "output_type": "stream",
     "text": [
      "Enter the birth year: 2003\n",
      "Enter the birth month: 3\n",
      "Enter the birth day: 3\n",
      "The person is 20 years old.\n"
     ]
    }
   ],
   "source": [
    "from datetime import datetime\n",
    "\n",
    "def calculate_age(birth_year, birth_month, birth_day):\n",
    "    current_date = datetime.now()\n",
    "    birth_date = datetime(birth_year, birth_month, birth_day)\n",
    "    age = current_date.year - birth_date.year\n",
    "\n",
    "    # Check if the birthday has already occurred this year\n",
    "    if (\n",
    "        current_date.month < birth_date.month\n",
    "        or (current_date.month == birth_date.month and current_date.day < birth_date.day)\n",
    "    ):\n",
    "        age -= 1\n",
    "\n",
    "    return age\n",
    "\n",
    "# Example usage\n",
    "birth_year = int(input(\"Enter the birth year: \"))\n",
    "birth_month = int(input(\"Enter the birth month: \"))\n",
    "birth_day = int(input(\"Enter the birth day: \"))\n",
    "\n",
    "age = calculate_age(birth_year, birth_month, birth_day)\n",
    "print(\"The person is\", age, \"years old.\")\n"
   ]
  },
  {
   "cell_type": "code",
   "execution_count": 2,
   "id": "8f9b5977",
   "metadata": {},
   "outputs": [
    {
     "name": "stdout",
     "output_type": "stream",
     "text": [
      "Enter the birth year: 2003\n",
      "Enter the birth month: 03\n",
      "Enter the birth day: 03\n",
      "The person is 20 years, 2 months, 4 weeks, and 28 days old.\n"
     ]
    }
   ],
   "source": [
    "from datetime import datetime\n",
    "from dateutil.relativedelta import relativedelta\n",
    "\n",
    "def calculate_age(birth_year, birth_month, birth_day):\n",
    "    current_date = datetime.now()\n",
    "    birth_date = datetime(birth_year, birth_month, birth_day)\n",
    "    age_delta = relativedelta(current_date, birth_date)\n",
    "\n",
    "    years = age_delta.years\n",
    "    months = age_delta.months\n",
    "    weeks = age_delta.weeks\n",
    "    days = age_delta.days\n",
    "\n",
    "    return years, months, weeks, days\n",
    "\n",
    "# Example usage\n",
    "birth_year = int(input(\"Enter the birth year: \"))\n",
    "birth_month = int(input(\"Enter the birth month: \"))\n",
    "birth_day = int(input(\"Enter the birth day: \"))\n",
    "\n",
    "years, months, weeks, days = calculate_age(birth_year, birth_month, birth_day)\n",
    "print(f\"The person is {years} years, {months} months, {weeks} weeks, and {days} days old.\")\n"
   ]
  },
  {
   "cell_type": "code",
   "execution_count": null,
   "id": "940221c8",
   "metadata": {},
   "outputs": [],
   "source": []
  }
 ],
 "metadata": {
  "kernelspec": {
   "display_name": "Python 3 (ipykernel)",
   "language": "python",
   "name": "python3"
  },
  "language_info": {
   "codemirror_mode": {
    "name": "ipython",
    "version": 3
   },
   "file_extension": ".py",
   "mimetype": "text/x-python",
   "name": "python",
   "nbconvert_exporter": "python",
   "pygments_lexer": "ipython3",
   "version": "3.11.2"
  }
 },
 "nbformat": 4,
 "nbformat_minor": 5
}
